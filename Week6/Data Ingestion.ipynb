{
 "cells": [
  {
   "cell_type": "markdown",
   "id": "9f71f9ac",
   "metadata": {},
   "source": [
    "## Task:\n",
    "\n",
    "Take any csv/text file of 2+ GB of your choice. --- (You can do this assignment on Google colab)\n",
    "\n",
    "Read the file ( Present approach of reading the file )\n",
    "\n",
    "Try different methods of file reading eg: Dask, Modin, Ray, pandas and present your findings in term of computational efficiency\n",
    "\n",
    "Perform basic validation on data columns : eg: remove special character , white spaces from the col name\n",
    "\n",
    "As you already know the schema hence create a YAML file and write the column name in YAML file. --define separator of read and write file, column name in YAML\n",
    "\n",
    "Validate number of columns and column name of ingested file with YAML.\n",
    "\n",
    "Write the file in pipe separated text file (|) in gz format.\n",
    "\n",
    "Create a summary of the file:\n",
    "\n",
    "Total number of rows,\n",
    "\n",
    "total number of columns\n",
    "\n",
    "file size"
   ]
  },
  {
   "cell_type": "code",
   "execution_count": 14,
   "id": "475df214",
   "metadata": {},
   "outputs": [],
   "source": [
    "import os\n",
    "import pandas as pd\n",
    "import numpy as np"
   ]
  },
  {
   "cell_type": "code",
   "execution_count": 20,
   "id": "e212e296",
   "metadata": {},
   "outputs": [
    {
     "name": "stderr",
     "output_type": "stream",
     "text": [
      "<timed exec>:1: DtypeWarning: Columns (6) have mixed types. Specify dtype option on import or set low_memory=False.\n"
     ]
    },
    {
     "name": "stdout",
     "output_type": "stream",
     "text": [
      "Wall time: 1min 3s\n"
     ]
    }
   ],
   "source": [
    "%%time\n",
    "df_sample = pd.read_csv('nyt-comments-2020.csv')"
   ]
  },
  {
   "cell_type": "code",
   "execution_count": 25,
   "id": "07d4efb7",
   "metadata": {
    "scrolled": true
   },
   "outputs": [
    {
     "name": "stdout",
     "output_type": "stream",
     "text": [
      "<class 'pandas.core.frame.DataFrame'>\n",
      "RangeIndex: 4986461 entries, 0 to 4986460\n",
      "Data columns (total 23 columns):\n",
      " #   Column                 Dtype  \n",
      "---  ------                 -----  \n",
      " 0   commentID              int64  \n",
      " 1   status                 object \n",
      " 2   commentSequence        int64  \n",
      " 3   userID                 int64  \n",
      " 4   userDisplayName        object \n",
      " 5   userLocation           object \n",
      " 6   userTitle              object \n",
      " 7   commentBody            object \n",
      " 8   createDate             object \n",
      " 9   updateDate             object \n",
      " 10  approveDate            object \n",
      " 11  recommendations        int64  \n",
      " 12  replyCount             int64  \n",
      " 13  editorsSelection       bool   \n",
      " 14  parentID               float64\n",
      " 15  parentUserDisplayName  object \n",
      " 16  depth                  int64  \n",
      " 17  commentType            object \n",
      " 18  trusted                int64  \n",
      " 19  recommendedFlag        int64  \n",
      " 20  permID                 int64  \n",
      " 21  isAnonymous            bool   \n",
      " 22  articleID              object \n",
      "dtypes: bool(2), float64(1), int64(9), object(11)\n",
      "memory usage: 808.4+ MB\n"
     ]
    }
   ],
   "source": [
    "df_sample.info()"
   ]
  },
  {
   "cell_type": "code",
   "execution_count": 5,
   "id": "a3154740",
   "metadata": {},
   "outputs": [
    {
     "name": "stdout",
     "output_type": "stream",
     "text": [
      "Wall time: 2.1 s\n"
     ]
    }
   ],
   "source": [
    "%%time\n",
    "from dask import dataframe as dd\n",
    "dask_df = dd.read_csv('nyt-comments-2020.csv')"
   ]
  },
  {
   "cell_type": "code",
   "execution_count": 7,
   "id": "cf890ae5",
   "metadata": {},
   "outputs": [
    {
     "name": "stderr",
     "output_type": "stream",
     "text": [
      "2023-06-09 18:09:10,263\tINFO worker.py:1636 -- Started a local Ray instance.\n",
      "2023-06-09 18:09:15,042\tWARNING read_api.py:393 -- ⚠️  The blocks of this dataset are estimated to be 5.0x larger than the target block size of 512 MiB. This may lead to out-of-memory errors during processing. Consider reducing the size of input files or using `.repartition(n)` to increase the number of dataset blocks.\n",
      "2023-06-09 18:09:15,051\tWARNING dataset.py:253 -- \u001b[33mImportant: Ray Data requires schemas for all datasets in Ray 2.5. This means that standalone Python objects are no longer supported. In addition, the default batch format is fixed to NumPy. To revert to legacy behavior temporarily, set the environment variable RAY_DATA_STRICT_MODE=0 on all cluster processes.\n",
      "\n",
      "Learn more here: https://docs.ray.io/en/master/data/faq.html#migrating-to-strict-mode\u001b[0m\n"
     ]
    },
    {
     "name": "stdout",
     "output_type": "stream",
     "text": [
      "Wall time: 11 s\n"
     ]
    }
   ],
   "source": [
    "%%time\n",
    "import ray\n",
    "ray_df = ray.data.read_csv('nyt-comments-2020.csv')\n"
   ]
  },
  {
   "cell_type": "code",
   "execution_count": 8,
   "id": "df71dce9",
   "metadata": {
    "scrolled": true
   },
   "outputs": [
    {
     "name": "stderr",
     "output_type": "stream",
     "text": [
      "2023-06-09 18:09:44,597\tINFO worker.py:1636 -- Started a local Ray instance.\n",
      "UserWarning: When using a pre-initialized Ray cluster, please ensure that the runtime env sets environment variable __MODIN_AUTOIMPORT_PANDAS__ to 1\n"
     ]
    },
    {
     "name": "stdout",
     "output_type": "stream",
     "text": [
      "Wall time: 45.8 s\n"
     ]
    }
   ],
   "source": [
    "%%time\n",
    "import modin.pandas as pd\n",
    "ray.shutdown()\n",
    "ray.init()\n",
    "\n",
    "mod_df = pd.read_csv('nyt-comments-2020.csv')"
   ]
  },
  {
   "cell_type": "code",
   "execution_count": null,
   "id": "50e1ab1a",
   "metadata": {},
   "outputs": [],
   "source": []
  },
  {
   "cell_type": "code",
   "execution_count": 6,
   "id": "99c9a238",
   "metadata": {},
   "outputs": [],
   "source": [
    "df = dd.read_csv('nyt-comments-2020.csv')"
   ]
  },
  {
   "cell_type": "code",
   "execution_count": 12,
   "id": "16349416",
   "metadata": {},
   "outputs": [
    {
     "data": {
      "text/plain": [
       "23"
      ]
     },
     "execution_count": 12,
     "metadata": {},
     "output_type": "execute_result"
    }
   ],
   "source": [
    "len(df.columns)"
   ]
  },
  {
   "cell_type": "code",
   "execution_count": 7,
   "id": "af7647a8",
   "metadata": {},
   "outputs": [],
   "source": [
    "# remove white spaces in the column names\n",
    "df.columns = df.columns.str.replace(' ', '')"
   ]
  },
  {
   "cell_type": "code",
   "execution_count": 8,
   "id": "2ec4e1a6",
   "metadata": {},
   "outputs": [
    {
     "name": "stderr",
     "output_type": "stream",
     "text": [
      "C:\\Users\\Drmoke\\AppData\\Local\\Temp\\ipykernel_27636\\3040113392.py:2: FutureWarning: The default value of regex will change from True to False in a future version.\n",
      "  df.columns=df.columns.str.replace('[#,@,&]','')\n"
     ]
    }
   ],
   "source": [
    "# remove special characters\n",
    "df.columns=df.columns.str.replace('[#,@,&]','')"
   ]
  },
  {
   "cell_type": "code",
   "execution_count": 9,
   "id": "5b129696",
   "metadata": {},
   "outputs": [
    {
     "data": {
      "text/plain": [
       "Index(['commentID', 'status', 'commentSequence', 'userID', 'userDisplayName',\n",
       "       'userLocation', 'userTitle', 'commentBody', 'createDate', 'updateDate',\n",
       "       'approveDate', 'recommendations', 'replyCount', 'editorsSelection',\n",
       "       'parentID', 'parentUserDisplayName', 'depth', 'commentType', 'trusted',\n",
       "       'recommendedFlag', 'permID', 'isAnonymous', 'articleID'],\n",
       "      dtype='object')"
      ]
     },
     "execution_count": 9,
     "metadata": {},
     "output_type": "execute_result"
    }
   ],
   "source": [
    "columns = df.columns\n",
    "columns"
   ]
  },
  {
   "cell_type": "markdown",
   "id": "00a6acff",
   "metadata": {},
   "source": [
    "### We can see dask has the quickest processing time, following by ray and modin, pandas has the lowest processing time"
   ]
  },
  {
   "cell_type": "code",
   "execution_count": 36,
   "id": "22724665",
   "metadata": {},
   "outputs": [
    {
     "name": "stdout",
     "output_type": "stream",
     "text": [
      "Overwriting utility.py\n"
     ]
    }
   ],
   "source": [
    "%%writefile utility.py\n",
    "# Use the utility code template\n",
    "import logging\n",
    "import os\n",
    "import subprocess\n",
    "import yaml\n",
    "import pandas as pd\n",
    "import datetime \n",
    "import gc\n",
    "import re\n",
    "\n",
    "def read_config_file(filepath):\n",
    "    with open(filepath, 'r') as stream:\n",
    "        try:\n",
    "            return yaml.safe_load(stream)\n",
    "        except yaml.YAMLError as exc:\n",
    "            logging.error(exc)\n",
    "\n",
    "def replacer(string, char):\n",
    "    pattern = char + '{2,}'\n",
    "    string = re.sub(pattern, char, string) \n",
    "    return string\n",
    "\n",
    "def col_header_val(df,table_config):\n",
    "    df.columns = df.columns.str.lower()\n",
    "    df.columns = df.columns.str.replace('[^\\w]','_',regex=True)\n",
    "    df.columns = list(map(lambda x: x.strip('_'), list(df.columns)))\n",
    "    df.columns = list(map(lambda x: replacer(x,'_'), list(df.columns)))\n",
    "    expected_col = list(map(lambda x: x.lower(),  table_config['columns']))\n",
    "    expected_col.sort()\n",
    "    df.columns =list(map(lambda x: x.lower(), list(df.columns)))\n",
    "    df = df.reindex(sorted(df.columns), axis=1)\n",
    "    if len(df.columns) == len(expected_col) and list(expected_col)  == list(df.columns):\n",
    "        print(\"column name and column length validation passed\")\n",
    "        return 1\n",
    "    else:\n",
    "        print(\"column name and column length validation failed\")\n",
    "        mismatched_columns_file = list(set(df.columns).difference(expected_col))\n",
    "        print(\"Following File columns are not in the YAML file\",mismatched_columns_file)\n",
    "        missing_YAML_file = list(set(expected_col).difference(df.columns))\n",
    "        print(\"Following YAML columns are not in the file uploaded\",missing_YAML_file)\n",
    "        logging.info(f'df columns: {df.columns}')\n",
    "        logging.info(f'expected columns: {expected_col}')\n",
    "        return 0"
   ]
  },
  {
   "cell_type": "code",
   "execution_count": 11,
   "id": "8595a92b",
   "metadata": {},
   "outputs": [
    {
     "name": "stdout",
     "output_type": "stream",
     "text": [
      "Overwriting nyt.yaml\n"
     ]
    }
   ],
   "source": [
    "%%writefile nyt.yaml\n",
    "file_type: csv\n",
    "dataset_name: nyt-comments-2020\n",
    "file_name: nyt-comments-2020\n",
    "table_name: edsurv\n",
    "inbound_delimiter: \",\"\n",
    "outbound_delimiter: \"|\"\n",
    "skip_leading_rows: 1\n",
    "columns: \n",
    "    - commentID\n",
    "    - status\n",
    "    - commentSequence\n",
    "    - userID\n",
    "    - userDisplayName\n",
    "    - userLocation\n",
    "    - userTitle\n",
    "    - commentBody\n",
    "    - createDate\n",
    "    - updateDate\n",
    "    - approveDate\n",
    "    - recommendations\n",
    "    - replyCount\n",
    "    - editorsSelection\n",
    "    - parentID\n",
    "    - parentUserDisplayName\n",
    "    - depth\n",
    "    - commentType\n",
    "    - trusted\n",
    "    - recommendedFlag\n",
    "    - permID\n",
    "    - isAnonymous\n",
    "    - articleID"
   ]
  },
  {
   "cell_type": "code",
   "execution_count": 2,
   "id": "d33cbca1",
   "metadata": {},
   "outputs": [],
   "source": [
    "import utility as util\n",
    "config_data = util.read_config_file(\"nyt.yaml\")"
   ]
  },
  {
   "cell_type": "code",
   "execution_count": 3,
   "id": "4b23e453",
   "metadata": {},
   "outputs": [
    {
     "data": {
      "text/plain": [
       "{'file_type': 'csv',\n",
       " 'dataset_name': 'nyt-comments-2020',\n",
       " 'file_name': 'nyt-comments-2020',\n",
       " 'table_name': 'edsurv',\n",
       " 'inbound_delimiter': ',',\n",
       " 'outbound_delimiter': '|',\n",
       " 'skip_leading_rows': 1,\n",
       " 'columns': ['commentID',\n",
       "  'status',\n",
       "  'commentSequence',\n",
       "  'userID',\n",
       "  'userDisplayName',\n",
       "  'userLocation',\n",
       "  'userTitle',\n",
       "  'commentBody',\n",
       "  'createDate',\n",
       "  'updateDate',\n",
       "  'approveDate',\n",
       "  'recommendations',\n",
       "  'replyCount',\n",
       "  'editorsSelection',\n",
       "  'parentID',\n",
       "  'parentUserDisplayName',\n",
       "  'depth',\n",
       "  'commentType',\n",
       "  'trusted',\n",
       "  'recommendedFlag',\n",
       "  'permID',\n",
       "  'isAnonymous',\n",
       "  'articleID']}"
      ]
     },
     "execution_count": 3,
     "metadata": {},
     "output_type": "execute_result"
    }
   ],
   "source": [
    "config_data"
   ]
  },
  {
   "cell_type": "code",
   "execution_count": 4,
   "id": "0a861793",
   "metadata": {},
   "outputs": [],
   "source": [
    "# use dask to read dataset file\n",
    "import numpy as np\n",
    "from dask import dataframe as dd\n",
    "df = dd.read_csv('nyt-comments-2020.csv',delimiter=',', dtype={'userTitle': 'object'})"
   ]
  },
  {
   "cell_type": "code",
   "execution_count": 26,
   "id": "cddb158c",
   "metadata": {},
   "outputs": [
    {
     "data": {
      "text/html": [
       "<div>\n",
       "<style scoped>\n",
       "    .dataframe tbody tr th:only-of-type {\n",
       "        vertical-align: middle;\n",
       "    }\n",
       "\n",
       "    .dataframe tbody tr th {\n",
       "        vertical-align: top;\n",
       "    }\n",
       "\n",
       "    .dataframe thead th {\n",
       "        text-align: right;\n",
       "    }\n",
       "</style>\n",
       "<table border=\"1\" class=\"dataframe\">\n",
       "  <thead>\n",
       "    <tr style=\"text-align: right;\">\n",
       "      <th></th>\n",
       "      <th>commentID</th>\n",
       "      <th>status</th>\n",
       "      <th>commentSequence</th>\n",
       "      <th>userID</th>\n",
       "      <th>userDisplayName</th>\n",
       "      <th>userLocation</th>\n",
       "      <th>userTitle</th>\n",
       "      <th>commentBody</th>\n",
       "      <th>createDate</th>\n",
       "      <th>updateDate</th>\n",
       "      <th>...</th>\n",
       "      <th>editorsSelection</th>\n",
       "      <th>parentID</th>\n",
       "      <th>parentUserDisplayName</th>\n",
       "      <th>depth</th>\n",
       "      <th>commentType</th>\n",
       "      <th>trusted</th>\n",
       "      <th>recommendedFlag</th>\n",
       "      <th>permID</th>\n",
       "      <th>isAnonymous</th>\n",
       "      <th>articleID</th>\n",
       "    </tr>\n",
       "  </thead>\n",
       "  <tbody>\n",
       "    <tr>\n",
       "      <th>0</th>\n",
       "      <td>104387472</td>\n",
       "      <td>approved</td>\n",
       "      <td>104387472</td>\n",
       "      <td>60215558</td>\n",
       "      <td>magicisnotreal</td>\n",
       "      <td>earth</td>\n",
       "      <td>NaN</td>\n",
       "      <td>Here is something I think is fraudulent that v...</td>\n",
       "      <td>2020-01-01 01:05:46</td>\n",
       "      <td>2020-01-01 08:13:39</td>\n",
       "      <td>...</td>\n",
       "      <td>False</td>\n",
       "      <td>NaN</td>\n",
       "      <td>NaN</td>\n",
       "      <td>1</td>\n",
       "      <td>comment</td>\n",
       "      <td>0</td>\n",
       "      <td>0</td>\n",
       "      <td>104387472</td>\n",
       "      <td>False</td>\n",
       "      <td>nyt://article/69a7090b-9f36-569e-b5ab-b0ba5bb3...</td>\n",
       "    </tr>\n",
       "    <tr>\n",
       "      <th>1</th>\n",
       "      <td>104387873</td>\n",
       "      <td>approved</td>\n",
       "      <td>104387873</td>\n",
       "      <td>65691034</td>\n",
       "      <td>JD</td>\n",
       "      <td>Elko</td>\n",
       "      <td>NaN</td>\n",
       "      <td>@magicisnotreal  I have used my VA loan option...</td>\n",
       "      <td>2020-01-01 01:52:25</td>\n",
       "      <td>2020-01-01 20:55:19</td>\n",
       "      <td>...</td>\n",
       "      <td>False</td>\n",
       "      <td>104387472.0</td>\n",
       "      <td>magicisnotreal</td>\n",
       "      <td>2</td>\n",
       "      <td>userReply</td>\n",
       "      <td>0</td>\n",
       "      <td>0</td>\n",
       "      <td>104387873</td>\n",
       "      <td>False</td>\n",
       "      <td>nyt://article/69a7090b-9f36-569e-b5ab-b0ba5bb3...</td>\n",
       "    </tr>\n",
       "    <tr>\n",
       "      <th>2</th>\n",
       "      <td>104387976</td>\n",
       "      <td>approved</td>\n",
       "      <td>104387976</td>\n",
       "      <td>65110053</td>\n",
       "      <td>ebmem</td>\n",
       "      <td>Memphis, TN</td>\n",
       "      <td>NaN</td>\n",
       "      <td>@magi\\n\\nWhy would someone take out a VA loan ...</td>\n",
       "      <td>2020-01-01 02:06:05</td>\n",
       "      <td>2020-01-01 20:55:35</td>\n",
       "      <td>...</td>\n",
       "      <td>False</td>\n",
       "      <td>104387472.0</td>\n",
       "      <td>magicisnotreal</td>\n",
       "      <td>2</td>\n",
       "      <td>userReply</td>\n",
       "      <td>0</td>\n",
       "      <td>0</td>\n",
       "      <td>104387976</td>\n",
       "      <td>False</td>\n",
       "      <td>nyt://article/69a7090b-9f36-569e-b5ab-b0ba5bb3...</td>\n",
       "    </tr>\n",
       "    <tr>\n",
       "      <th>3</th>\n",
       "      <td>104390628</td>\n",
       "      <td>approved</td>\n",
       "      <td>104390628</td>\n",
       "      <td>60215558</td>\n",
       "      <td>magicisnotreal</td>\n",
       "      <td>earth</td>\n",
       "      <td>NaN</td>\n",
       "      <td>@JD\\nOut here in the Alabama of the PNW they w...</td>\n",
       "      <td>2020-01-01 14:38:50</td>\n",
       "      <td>2020-01-01 20:56:46</td>\n",
       "      <td>...</td>\n",
       "      <td>False</td>\n",
       "      <td>104387873.0</td>\n",
       "      <td>magicisnotreal</td>\n",
       "      <td>2</td>\n",
       "      <td>userReply</td>\n",
       "      <td>0</td>\n",
       "      <td>0</td>\n",
       "      <td>104390628</td>\n",
       "      <td>False</td>\n",
       "      <td>nyt://article/69a7090b-9f36-569e-b5ab-b0ba5bb3...</td>\n",
       "    </tr>\n",
       "    <tr>\n",
       "      <th>4</th>\n",
       "      <td>104391463</td>\n",
       "      <td>approved</td>\n",
       "      <td>104391463</td>\n",
       "      <td>65691034</td>\n",
       "      <td>JD</td>\n",
       "      <td>Elko</td>\n",
       "      <td>NaN</td>\n",
       "      <td>@magicisnotreal  just a guess but I doubt that...</td>\n",
       "      <td>2020-01-01 16:23:14</td>\n",
       "      <td>2020-01-01 16:25:57</td>\n",
       "      <td>...</td>\n",
       "      <td>False</td>\n",
       "      <td>104390628.0</td>\n",
       "      <td>magicisnotreal</td>\n",
       "      <td>2</td>\n",
       "      <td>userReply</td>\n",
       "      <td>0</td>\n",
       "      <td>0</td>\n",
       "      <td>104391463</td>\n",
       "      <td>False</td>\n",
       "      <td>nyt://article/69a7090b-9f36-569e-b5ab-b0ba5bb3...</td>\n",
       "    </tr>\n",
       "  </tbody>\n",
       "</table>\n",
       "<p>5 rows × 23 columns</p>\n",
       "</div>"
      ],
      "text/plain": [
       "   commentID    status  commentSequence    userID userDisplayName  \\\n",
       "0  104387472  approved        104387472  60215558  magicisnotreal   \n",
       "1  104387873  approved        104387873  65691034              JD   \n",
       "2  104387976  approved        104387976  65110053           ebmem   \n",
       "3  104390628  approved        104390628  60215558  magicisnotreal   \n",
       "4  104391463  approved        104391463  65691034              JD   \n",
       "\n",
       "  userLocation userTitle                                        commentBody  \\\n",
       "0        earth       NaN  Here is something I think is fraudulent that v...   \n",
       "1         Elko       NaN  @magicisnotreal  I have used my VA loan option...   \n",
       "2  Memphis, TN       NaN  @magi\\n\\nWhy would someone take out a VA loan ...   \n",
       "3        earth       NaN  @JD\\nOut here in the Alabama of the PNW they w...   \n",
       "4         Elko       NaN  @magicisnotreal  just a guess but I doubt that...   \n",
       "\n",
       "            createDate           updateDate  ... editorsSelection  \\\n",
       "0  2020-01-01 01:05:46  2020-01-01 08:13:39  ...            False   \n",
       "1  2020-01-01 01:52:25  2020-01-01 20:55:19  ...            False   \n",
       "2  2020-01-01 02:06:05  2020-01-01 20:55:35  ...            False   \n",
       "3  2020-01-01 14:38:50  2020-01-01 20:56:46  ...            False   \n",
       "4  2020-01-01 16:23:14  2020-01-01 16:25:57  ...            False   \n",
       "\n",
       "      parentID  parentUserDisplayName  depth  commentType trusted  \\\n",
       "0          NaN                    NaN      1      comment       0   \n",
       "1  104387472.0         magicisnotreal      2    userReply       0   \n",
       "2  104387472.0         magicisnotreal      2    userReply       0   \n",
       "3  104387873.0         magicisnotreal      2    userReply       0   \n",
       "4  104390628.0         magicisnotreal      2    userReply       0   \n",
       "\n",
       "   recommendedFlag     permID  isAnonymous  \\\n",
       "0                0  104387472        False   \n",
       "1                0  104387873        False   \n",
       "2                0  104387976        False   \n",
       "3                0  104390628        False   \n",
       "4                0  104391463        False   \n",
       "\n",
       "                                           articleID  \n",
       "0  nyt://article/69a7090b-9f36-569e-b5ab-b0ba5bb3...  \n",
       "1  nyt://article/69a7090b-9f36-569e-b5ab-b0ba5bb3...  \n",
       "2  nyt://article/69a7090b-9f36-569e-b5ab-b0ba5bb3...  \n",
       "3  nyt://article/69a7090b-9f36-569e-b5ab-b0ba5bb3...  \n",
       "4  nyt://article/69a7090b-9f36-569e-b5ab-b0ba5bb3...  \n",
       "\n",
       "[5 rows x 23 columns]"
      ]
     },
     "execution_count": 26,
     "metadata": {},
     "output_type": "execute_result"
    }
   ],
   "source": [
    "df.head()"
   ]
  },
  {
   "cell_type": "code",
   "execution_count": 7,
   "id": "09878af8",
   "metadata": {},
   "outputs": [],
   "source": [
    "file_type = config_data['file_type']\n",
    "source_file = \"./\" + config_data['file_name'] + f'.{file_type}'"
   ]
  },
  {
   "cell_type": "code",
   "execution_count": 8,
   "id": "65948874",
   "metadata": {
    "scrolled": true
   },
   "outputs": [
    {
     "name": "stderr",
     "output_type": "stream",
     "text": [
      "C:\\Users\\Drmoke\\AppData\\Local\\Temp\\ipykernel_12020\\3782064743.py:1: FutureWarning: In a future version of pandas all arguments of read_csv except for the argument 'filepath_or_buffer' will be keyword-only.\n",
      "  df_con = pd.read_csv(source_file,config_data['inbound_delimiter'])\n",
      "C:\\Users\\Drmoke\\AppData\\Local\\Temp\\ipykernel_12020\\3782064743.py:1: DtypeWarning: Columns (6) have mixed types. Specify dtype option on import or set low_memory=False.\n",
      "  df_con = pd.read_csv(source_file,config_data['inbound_delimiter'])\n"
     ]
    },
    {
     "data": {
      "text/html": [
       "<div>\n",
       "<style scoped>\n",
       "    .dataframe tbody tr th:only-of-type {\n",
       "        vertical-align: middle;\n",
       "    }\n",
       "\n",
       "    .dataframe tbody tr th {\n",
       "        vertical-align: top;\n",
       "    }\n",
       "\n",
       "    .dataframe thead th {\n",
       "        text-align: right;\n",
       "    }\n",
       "</style>\n",
       "<table border=\"1\" class=\"dataframe\">\n",
       "  <thead>\n",
       "    <tr style=\"text-align: right;\">\n",
       "      <th></th>\n",
       "      <th>commentID</th>\n",
       "      <th>status</th>\n",
       "      <th>commentSequence</th>\n",
       "      <th>userID</th>\n",
       "      <th>userDisplayName</th>\n",
       "      <th>userLocation</th>\n",
       "      <th>userTitle</th>\n",
       "      <th>commentBody</th>\n",
       "      <th>createDate</th>\n",
       "      <th>updateDate</th>\n",
       "      <th>...</th>\n",
       "      <th>editorsSelection</th>\n",
       "      <th>parentID</th>\n",
       "      <th>parentUserDisplayName</th>\n",
       "      <th>depth</th>\n",
       "      <th>commentType</th>\n",
       "      <th>trusted</th>\n",
       "      <th>recommendedFlag</th>\n",
       "      <th>permID</th>\n",
       "      <th>isAnonymous</th>\n",
       "      <th>articleID</th>\n",
       "    </tr>\n",
       "  </thead>\n",
       "  <tbody>\n",
       "    <tr>\n",
       "      <th>0</th>\n",
       "      <td>104387472</td>\n",
       "      <td>approved</td>\n",
       "      <td>104387472</td>\n",
       "      <td>60215558</td>\n",
       "      <td>magicisnotreal</td>\n",
       "      <td>earth</td>\n",
       "      <td>NaN</td>\n",
       "      <td>Here is something I think is fraudulent that v...</td>\n",
       "      <td>2020-01-01 01:05:46</td>\n",
       "      <td>2020-01-01 08:13:39</td>\n",
       "      <td>...</td>\n",
       "      <td>False</td>\n",
       "      <td>NaN</td>\n",
       "      <td>NaN</td>\n",
       "      <td>1</td>\n",
       "      <td>comment</td>\n",
       "      <td>0</td>\n",
       "      <td>0</td>\n",
       "      <td>104387472</td>\n",
       "      <td>False</td>\n",
       "      <td>nyt://article/69a7090b-9f36-569e-b5ab-b0ba5bb3...</td>\n",
       "    </tr>\n",
       "    <tr>\n",
       "      <th>1</th>\n",
       "      <td>104387873</td>\n",
       "      <td>approved</td>\n",
       "      <td>104387873</td>\n",
       "      <td>65691034</td>\n",
       "      <td>JD</td>\n",
       "      <td>Elko</td>\n",
       "      <td>NaN</td>\n",
       "      <td>@magicisnotreal  I have used my VA loan option...</td>\n",
       "      <td>2020-01-01 01:52:25</td>\n",
       "      <td>2020-01-01 20:55:19</td>\n",
       "      <td>...</td>\n",
       "      <td>False</td>\n",
       "      <td>104387472.0</td>\n",
       "      <td>magicisnotreal</td>\n",
       "      <td>2</td>\n",
       "      <td>userReply</td>\n",
       "      <td>0</td>\n",
       "      <td>0</td>\n",
       "      <td>104387873</td>\n",
       "      <td>False</td>\n",
       "      <td>nyt://article/69a7090b-9f36-569e-b5ab-b0ba5bb3...</td>\n",
       "    </tr>\n",
       "    <tr>\n",
       "      <th>2</th>\n",
       "      <td>104387976</td>\n",
       "      <td>approved</td>\n",
       "      <td>104387976</td>\n",
       "      <td>65110053</td>\n",
       "      <td>ebmem</td>\n",
       "      <td>Memphis, TN</td>\n",
       "      <td>NaN</td>\n",
       "      <td>@magi\\n\\nWhy would someone take out a VA loan ...</td>\n",
       "      <td>2020-01-01 02:06:05</td>\n",
       "      <td>2020-01-01 20:55:35</td>\n",
       "      <td>...</td>\n",
       "      <td>False</td>\n",
       "      <td>104387472.0</td>\n",
       "      <td>magicisnotreal</td>\n",
       "      <td>2</td>\n",
       "      <td>userReply</td>\n",
       "      <td>0</td>\n",
       "      <td>0</td>\n",
       "      <td>104387976</td>\n",
       "      <td>False</td>\n",
       "      <td>nyt://article/69a7090b-9f36-569e-b5ab-b0ba5bb3...</td>\n",
       "    </tr>\n",
       "    <tr>\n",
       "      <th>3</th>\n",
       "      <td>104390628</td>\n",
       "      <td>approved</td>\n",
       "      <td>104390628</td>\n",
       "      <td>60215558</td>\n",
       "      <td>magicisnotreal</td>\n",
       "      <td>earth</td>\n",
       "      <td>NaN</td>\n",
       "      <td>@JD\\nOut here in the Alabama of the PNW they w...</td>\n",
       "      <td>2020-01-01 14:38:50</td>\n",
       "      <td>2020-01-01 20:56:46</td>\n",
       "      <td>...</td>\n",
       "      <td>False</td>\n",
       "      <td>104387873.0</td>\n",
       "      <td>magicisnotreal</td>\n",
       "      <td>2</td>\n",
       "      <td>userReply</td>\n",
       "      <td>0</td>\n",
       "      <td>0</td>\n",
       "      <td>104390628</td>\n",
       "      <td>False</td>\n",
       "      <td>nyt://article/69a7090b-9f36-569e-b5ab-b0ba5bb3...</td>\n",
       "    </tr>\n",
       "    <tr>\n",
       "      <th>4</th>\n",
       "      <td>104391463</td>\n",
       "      <td>approved</td>\n",
       "      <td>104391463</td>\n",
       "      <td>65691034</td>\n",
       "      <td>JD</td>\n",
       "      <td>Elko</td>\n",
       "      <td>NaN</td>\n",
       "      <td>@magicisnotreal  just a guess but I doubt that...</td>\n",
       "      <td>2020-01-01 16:23:14</td>\n",
       "      <td>2020-01-01 16:25:57</td>\n",
       "      <td>...</td>\n",
       "      <td>False</td>\n",
       "      <td>104390628.0</td>\n",
       "      <td>magicisnotreal</td>\n",
       "      <td>2</td>\n",
       "      <td>userReply</td>\n",
       "      <td>0</td>\n",
       "      <td>0</td>\n",
       "      <td>104391463</td>\n",
       "      <td>False</td>\n",
       "      <td>nyt://article/69a7090b-9f36-569e-b5ab-b0ba5bb3...</td>\n",
       "    </tr>\n",
       "  </tbody>\n",
       "</table>\n",
       "<p>5 rows × 23 columns</p>\n",
       "</div>"
      ],
      "text/plain": [
       "   commentID    status  commentSequence    userID userDisplayName  \\\n",
       "0  104387472  approved        104387472  60215558  magicisnotreal   \n",
       "1  104387873  approved        104387873  65691034              JD   \n",
       "2  104387976  approved        104387976  65110053           ebmem   \n",
       "3  104390628  approved        104390628  60215558  magicisnotreal   \n",
       "4  104391463  approved        104391463  65691034              JD   \n",
       "\n",
       "  userLocation userTitle                                        commentBody  \\\n",
       "0        earth       NaN  Here is something I think is fraudulent that v...   \n",
       "1         Elko       NaN  @magicisnotreal  I have used my VA loan option...   \n",
       "2  Memphis, TN       NaN  @magi\\n\\nWhy would someone take out a VA loan ...   \n",
       "3        earth       NaN  @JD\\nOut here in the Alabama of the PNW they w...   \n",
       "4         Elko       NaN  @magicisnotreal  just a guess but I doubt that...   \n",
       "\n",
       "            createDate           updateDate  ... editorsSelection  \\\n",
       "0  2020-01-01 01:05:46  2020-01-01 08:13:39  ...            False   \n",
       "1  2020-01-01 01:52:25  2020-01-01 20:55:19  ...            False   \n",
       "2  2020-01-01 02:06:05  2020-01-01 20:55:35  ...            False   \n",
       "3  2020-01-01 14:38:50  2020-01-01 20:56:46  ...            False   \n",
       "4  2020-01-01 16:23:14  2020-01-01 16:25:57  ...            False   \n",
       "\n",
       "      parentID  parentUserDisplayName  depth  commentType trusted  \\\n",
       "0          NaN                    NaN      1      comment       0   \n",
       "1  104387472.0         magicisnotreal      2    userReply       0   \n",
       "2  104387472.0         magicisnotreal      2    userReply       0   \n",
       "3  104387873.0         magicisnotreal      2    userReply       0   \n",
       "4  104390628.0         magicisnotreal      2    userReply       0   \n",
       "\n",
       "   recommendedFlag     permID  isAnonymous  \\\n",
       "0                0  104387472        False   \n",
       "1                0  104387873        False   \n",
       "2                0  104387976        False   \n",
       "3                0  104390628        False   \n",
       "4                0  104391463        False   \n",
       "\n",
       "                                           articleID  \n",
       "0  nyt://article/69a7090b-9f36-569e-b5ab-b0ba5bb3...  \n",
       "1  nyt://article/69a7090b-9f36-569e-b5ab-b0ba5bb3...  \n",
       "2  nyt://article/69a7090b-9f36-569e-b5ab-b0ba5bb3...  \n",
       "3  nyt://article/69a7090b-9f36-569e-b5ab-b0ba5bb3...  \n",
       "4  nyt://article/69a7090b-9f36-569e-b5ab-b0ba5bb3...  \n",
       "\n",
       "[5 rows x 23 columns]"
      ]
     },
     "execution_count": 8,
     "metadata": {},
     "output_type": "execute_result"
    }
   ],
   "source": [
    "df_con = pd.read_csv(source_file,config_data['inbound_delimiter'])\n",
    "df_con.head()"
   ]
  },
  {
   "cell_type": "code",
   "execution_count": 10,
   "id": "cb0a185f",
   "metadata": {},
   "outputs": [
    {
     "name": "stdout",
     "output_type": "stream",
     "text": [
      "<class 'pandas.core.frame.DataFrame'>\n",
      "RangeIndex: 4986461 entries, 0 to 4986460\n",
      "Data columns (total 23 columns):\n",
      " #   Column                 Dtype  \n",
      "---  ------                 -----  \n",
      " 0   commentid              int64  \n",
      " 1   status                 object \n",
      " 2   commentsequence        int64  \n",
      " 3   userid                 int64  \n",
      " 4   userdisplayname        object \n",
      " 5   userlocation           object \n",
      " 6   usertitle              object \n",
      " 7   commentbody            object \n",
      " 8   createdate             object \n",
      " 9   updatedate             object \n",
      " 10  approvedate            object \n",
      " 11  recommendations        int64  \n",
      " 12  replycount             int64  \n",
      " 13  editorsselection       bool   \n",
      " 14  parentid               float64\n",
      " 15  parentuserdisplayname  object \n",
      " 16  depth                  int64  \n",
      " 17  commenttype            object \n",
      " 18  trusted                int64  \n",
      " 19  recommendedflag        int64  \n",
      " 20  permid                 int64  \n",
      " 21  isanonymous            bool   \n",
      " 22  articleid              object \n",
      "dtypes: bool(2), float64(1), int64(9), object(11)\n",
      "memory usage: 808.4+ MB\n"
     ]
    }
   ],
   "source": [
    "df_con.info()"
   ]
  },
  {
   "cell_type": "code",
   "execution_count": 15,
   "id": "5b15813e",
   "metadata": {},
   "outputs": [
    {
     "name": "stdout",
     "output_type": "stream",
     "text": [
      "column name and column length validation passed\n"
     ]
    },
    {
     "data": {
      "text/plain": [
       "1"
      ]
     },
     "execution_count": 15,
     "metadata": {},
     "output_type": "execute_result"
    }
   ],
   "source": [
    "util.col_header_val(df_con,config_data)"
   ]
  },
  {
   "cell_type": "code",
   "execution_count": 16,
   "id": "ebff58f4",
   "metadata": {},
   "outputs": [
    {
     "name": "stdout",
     "output_type": "stream",
     "text": [
      "columns of files are: Index(['commentid', 'status', 'commentsequence', 'userid', 'userdisplayname',\n",
      "       'userlocation', 'usertitle', 'commentbody', 'createdate', 'updatedate',\n",
      "       'approvedate', 'recommendations', 'replycount', 'editorsselection',\n",
      "       'parentid', 'parentuserdisplayname', 'depth', 'commenttype', 'trusted',\n",
      "       'recommendedflag', 'permid', 'isanonymous', 'articleid'],\n",
      "      dtype='object')\n",
      "columns of YAML are: ['commentID', 'status', 'commentSequence', 'userID', 'userDisplayName', 'userLocation', 'userTitle', 'commentBody', 'createDate', 'updateDate', 'approveDate', 'recommendations', 'replyCount', 'editorsSelection', 'parentID', 'parentUserDisplayName', 'depth', 'commentType', 'trusted', 'recommendedFlag', 'permID', 'isAnonymous', 'articleID']\n"
     ]
    }
   ],
   "source": [
    "print(\"columns of files are:\" ,df_con.columns)\n",
    "print(\"columns of YAML are:\" ,config_data['columns'])"
   ]
  },
  {
   "cell_type": "code",
   "execution_count": 17,
   "id": "b7139c47",
   "metadata": {},
   "outputs": [
    {
     "name": "stdout",
     "output_type": "stream",
     "text": [
      "column name and column length validation passed\n",
      "col validation passed\n"
     ]
    }
   ],
   "source": [
    "if util.col_header_val(df_con,config_data)==0:\n",
    "    print(\"validation failed\")\n",
    "    # write code to reject the file\n",
    "else:\n",
    "    print(\"col validation passed\")\n",
    "    # write the code to perform further action\n",
    "    # in the pipleine"
   ]
  },
  {
   "cell_type": "code",
   "execution_count": 7,
   "id": "9bc26b77",
   "metadata": {},
   "outputs": [],
   "source": [
    "import datetime\n",
    "import csv\n",
    "import gzip\n",
    "\n",
    "# Write csv in gz format in pipe separated text file (|)\n",
    "df = pd.read_csv('nyt-comments-2020.csv', engine='python')"
   ]
  },
  {
   "cell_type": "code",
   "execution_count": 11,
   "id": "858feb42",
   "metadata": {},
   "outputs": [
    {
     "name": "stdout",
     "output_type": "stream",
     "text": [
      "<class 'pandas.core.frame.DataFrame'>\n",
      "RangeIndex: 4986461 entries, 0 to 4986460\n",
      "Data columns (total 23 columns):\n",
      " #   Column                 Dtype  \n",
      "---  ------                 -----  \n",
      " 0   commentID              int64  \n",
      " 1   status                 object \n",
      " 2   commentSequence        int64  \n",
      " 3   userID                 int64  \n",
      " 4   userDisplayName        object \n",
      " 5   userLocation           object \n",
      " 6   userTitle              object \n",
      " 7   commentBody            object \n",
      " 8   createDate             object \n",
      " 9   updateDate             object \n",
      " 10  approveDate            object \n",
      " 11  recommendations        int64  \n",
      " 12  replyCount             int64  \n",
      " 13  editorsSelection       bool   \n",
      " 14  parentID               float64\n",
      " 15  parentUserDisplayName  object \n",
      " 16  depth                  int64  \n",
      " 17  commentType            object \n",
      " 18  trusted                int64  \n",
      " 19  recommendedFlag        int64  \n",
      " 20  permID                 int64  \n",
      " 21  isAnonymous            bool   \n",
      " 22  articleID              object \n",
      "dtypes: bool(2), float64(1), int64(9), object(11)\n",
      "memory usage: 808.4+ MB\n"
     ]
    }
   ],
   "source": [
    "df.info()"
   ]
  },
  {
   "cell_type": "code",
   "execution_count": 12,
   "id": "8e1884ec",
   "metadata": {},
   "outputs": [],
   "source": [
    "df.to_csv('nyt-comments-2020.csv.gz',\n",
    "          sep='|',\n",
    "          index=False,\n",
    "          compression='gzip')"
   ]
  },
  {
   "cell_type": "code",
   "execution_count": 15,
   "id": "72f019b5",
   "metadata": {},
   "outputs": [
    {
     "data": {
      "text/plain": [
       "1027737940"
      ]
     },
     "execution_count": 15,
     "metadata": {},
     "output_type": "execute_result"
    }
   ],
   "source": [
    "os.path.getsize('nyt-comments-2020.csv.gz')"
   ]
  },
  {
   "cell_type": "code",
   "execution_count": null,
   "id": "6aa1daae",
   "metadata": {},
   "outputs": [],
   "source": []
  }
 ],
 "metadata": {
  "kernelspec": {
   "display_name": "Python 3 (ipykernel)",
   "language": "python",
   "name": "python3"
  },
  "language_info": {
   "codemirror_mode": {
    "name": "ipython",
    "version": 3
   },
   "file_extension": ".py",
   "mimetype": "text/x-python",
   "name": "python",
   "nbconvert_exporter": "python",
   "pygments_lexer": "ipython3",
   "version": "3.9.13"
  }
 },
 "nbformat": 4,
 "nbformat_minor": 5
}
